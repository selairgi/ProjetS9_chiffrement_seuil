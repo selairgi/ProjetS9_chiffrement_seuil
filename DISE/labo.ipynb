{
 "cells": [
  {
   "cell_type": "code",
   "execution_count": 1,
   "metadata": {},
   "outputs": [
    {
     "name": "stdout",
     "output_type": "stream",
     "text": [
      "Message clair : b'Confidential data'\n",
      "Message chiffré (en hex) : 387733a5fda6e7a0755de28558db6128657f456ef4d3a6357be4df4ecf25d66b\n",
      "Message déchiffré : b'Confidential data'\n"
     ]
    }
   ],
   "source": [
    "from Crypto.Cipher import AES\n",
    "from Crypto.Util.Padding import pad, unpad\n",
    "from Crypto.Random import get_random_bytes\n",
    "\n",
    "# Clé secrète et message\n",
    "key = get_random_bytes(16)  # Clé AES de 16 octets (128 bits)\n",
    "message = b\"Confidential data\"\n",
    "\n",
    "# Chiffrement\n",
    "cipher = AES.new(key, AES.MODE_CBC)\n",
    "iv = cipher.iv  # IV généré par CBC\n",
    "ciphertext = cipher.encrypt(pad(message, AES.block_size))\n",
    "\n",
    "# Déchiffrement\n",
    "decipher = AES.new(key, AES.MODE_CBC, iv)\n",
    "decrypted_message = unpad(decipher.decrypt(ciphertext), AES.block_size)\n",
    "\n",
    "# Affichage des résultats\n",
    "print(\"Message clair :\", message)\n",
    "print(\"Message chiffré (en hex) :\", ciphertext.hex())\n",
    "print(\"Message déchiffré :\", decrypted_message)\n"
   ]
  },
  {
   "cell_type": "code",
   "execution_count": 3,
   "metadata": {},
   "outputs": [
    {
     "data": {
      "text/plain": [
       "[0, 1, 2, 3, 4, 5, 6]"
      ]
     },
     "execution_count": 3,
     "metadata": {},
     "output_type": "execute_result"
    }
   ],
   "source": [
    "list(i for i in range(7))"
   ]
  }
 ],
 "metadata": {
  "kernelspec": {
   "display_name": "Python 3",
   "language": "python",
   "name": "python3"
  },
  "language_info": {
   "codemirror_mode": {
    "name": "ipython",
    "version": 3
   },
   "file_extension": ".py",
   "mimetype": "text/x-python",
   "name": "python",
   "nbconvert_exporter": "python",
   "pygments_lexer": "ipython3",
   "version": "3.12.4"
  }
 },
 "nbformat": 4,
 "nbformat_minor": 2
}
